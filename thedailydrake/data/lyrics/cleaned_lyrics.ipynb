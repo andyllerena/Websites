{
 "cells": [
  {
   "cell_type": "code",
   "execution_count": 34,
   "id": "7c1676ea",
   "metadata": {},
   "outputs": [],
   "source": [
    "import pandas as pd "
   ]
  },
  {
   "cell_type": "code",
   "execution_count": 35,
   "id": "a5d20d0f",
   "metadata": {},
   "outputs": [],
   "source": [
    "df = pd.read_csv('drake.csv')"
   ]
  },
  {
   "cell_type": "code",
   "execution_count": 36,
   "id": "d7a4e3f8",
   "metadata": {},
   "outputs": [
    {
     "name": "stdout",
     "output_type": "stream",
     "text": [
      "4343\n",
      "Lines with one word: 405\n",
      "Lines with ≤5 characters: 253\n"
     ]
    }
   ],
   "source": [
    "num_lines = len(df)\n",
    "print(num_lines)\n",
    "\n",
    "# Lines with only one word\n",
    "one_word_lines = df[df['Lyrics'].str.strip().str.split().str.len() == 1]\n",
    "print(\"Lines with one word:\", len(one_word_lines))\n",
    "\n",
    "# Lines with 5 or fewer characters\n",
    "short_lines = df[df['Lyrics'].str.strip().str.len() <= 5]\n",
    "print(\"Lines with ≤5 characters:\", len(short_lines))"
   ]
  },
  {
   "cell_type": "code",
   "execution_count": 37,
   "id": "42a76ac0",
   "metadata": {},
   "outputs": [],
   "source": [
    "#Remove lines with 1 words or under a certain character length\n",
    "df = df[df['Lyrics'].str.strip().str.len() > 5]\n",
    "df = df.drop_duplicates(subset=['Lyrics'])\n",
    "\n"
   ]
  },
  {
   "cell_type": "code",
   "execution_count": 38,
   "id": "220bc498",
   "metadata": {},
   "outputs": [
    {
     "name": "stdout",
     "output_type": "stream",
     "text": [
      "3099\n",
      "Lines with one word: 35\n",
      "Lines with ≤5 characters: 0\n",
      "         Song                                             Lyrics\n",
      "0   Gods Plan                                   673 Contributors\n",
      "1   Gods Plan                                       Translations\n",
      "2   Gods Plan                                            Русский\n",
      "3   Gods Plan                                             Türkçe\n",
      "4   Gods Plan                                            Español\n",
      "5   Gods Plan                                             Polski\n",
      "6   Gods Plan                                           Italiano\n",
      "7   Gods Plan                                            Deutsch\n",
      "8   Gods Plan                                           Français\n",
      "9   Gods Plan                           Azərbaycanca / آذربايجان\n",
      "10  Gods Plan                                  God’s Plan Lyrics\n",
      "11  Gods Plan                       And they wishin' and wishin'\n",
      "12  Gods Plan        And wishin' and wishin', they wishin' on me\n",
      "14  Gods Plan  I been movin' calm, don't start no trouble wit...\n",
      "15  Gods Plan        Tryna keep it peaceful is a struggle for me\n",
      "16  Gods Plan          Don't pull up at 6 a.m. to cuddle with me\n",
      "17  Gods Plan       You know how I like it when you lovin' on me\n",
      "18  Gods Plan              I don't wanna die for them to miss me\n",
      "19  Gods Plan      Yes, I see the things that they wishin' on me\n",
      "20  Gods Plan           Hope I got some brothers that outlive me\n"
     ]
    }
   ],
   "source": [
    "num_lines = len(df)\n",
    "print(num_lines)\n",
    "\n",
    "# Lines with only one word\n",
    "one_word_lines = df[df['Lyrics'].str.strip().str.split().str.len() == 1]\n",
    "print(\"Lines with one word:\", len(one_word_lines))\n",
    "\n",
    "# Lines with 5 or fewer characters\n",
    "short_lines = df[df['Lyrics'].str.strip().str.len() <= 5]\n",
    "print(\"Lines with ≤5 characters:\", len(short_lines))\n",
    "print(df.head(20))"
   ]
  },
  {
   "cell_type": "code",
   "execution_count": 39,
   "id": "7e84ddce",
   "metadata": {},
   "outputs": [
    {
     "name": "stdout",
     "output_type": "stream",
     "text": [
      "Index(['Song', 'Lyrics'], dtype='object')\n"
     ]
    }
   ],
   "source": [
    "print(df.columns)\n",
    "df.to_csv('cleaned_drake_lyrics.csv', index=False)\n"
   ]
  }
 ],
 "metadata": {
  "kernelspec": {
   "display_name": "venv",
   "language": "python",
   "name": "python3"
  },
  "language_info": {
   "codemirror_mode": {
    "name": "ipython",
    "version": 3
   },
   "file_extension": ".py",
   "mimetype": "text/x-python",
   "name": "python",
   "nbconvert_exporter": "python",
   "pygments_lexer": "ipython3",
   "version": "3.13.3"
  }
 },
 "nbformat": 4,
 "nbformat_minor": 5
}
